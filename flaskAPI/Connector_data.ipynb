{
 "cells": [
  {
   "cell_type": "code",
   "execution_count": 1,
   "metadata": {},
   "outputs": [],
   "source": [
    "import sqlalchemy\n",
    "from sqlalchemy.ext.automap import automap_base\n",
    "from sqlalchemy.orm import Session\n",
    "\n",
    "from pathlib import Path\n",
    "from sqlalchemy import create_engine, inspect, func\n",
    "import pandas as pd\n",
    "\n",
    "database_path = Path(\"../data/reduced_data.sqlite\")"
   ]
  },
  {
   "cell_type": "code",
   "execution_count": 2,
   "metadata": {},
   "outputs": [],
   "source": [
    "engine = create_engine(f\"sqlite:///{database_path}\")\n",
    "conn = engine.connect()"
   ]
  },
  {
   "cell_type": "code",
   "execution_count": 3,
   "metadata": {},
   "outputs": [
    {
     "data": {
      "text/plain": [
       "['reduced_data']"
      ]
     },
     "execution_count": 3,
     "metadata": {},
     "output_type": "execute_result"
    }
   ],
   "source": [
    "Base = automap_base()\n",
    "Base.prepare(autoload_with=engine)\n",
    "Base.classes.keys()"
   ]
  },
  {
   "cell_type": "code",
   "execution_count": 4,
   "metadata": {},
   "outputs": [
    {
     "data": {
      "text/plain": [
       "['reduced_data']"
      ]
     },
     "execution_count": 4,
     "metadata": {},
     "output_type": "execute_result"
    }
   ],
   "source": [
    "inspector = inspect(engine)\n",
    "inspector.get_table_names()"
   ]
  },
  {
   "cell_type": "code",
   "execution_count": 5,
   "metadata": {},
   "outputs": [
    {
     "name": "stdout",
     "output_type": "stream",
     "text": [
      "id INTEGER\n",
      "Title VARCHAR\n",
      "AddressLine1 VARCHAR\n",
      "Town VARCHAR\n",
      "StateOrProvince VARCHAR\n",
      "Postcode VARCHAR\n",
      "Latitude FLOAT\n",
      "Longitude FLOAT\n",
      "ConnectionTypeIDs VARCHAR\n",
      "PowerKWs VARCHAR\n",
      "CurrentTypeIDs VARCHAR\n",
      "OperatorID INTEGER\n",
      "UsageTypeID INTEGER\n",
      "UsageCost VARCHAR\n",
      "NumberOfPoints INTEGER\n",
      "StatusTypeID INTEGER\n",
      "LUnknownCount INTEGER\n",
      "L1Count INTEGER\n",
      "L2Count INTEGER\n",
      "L3Count INTEGER\n",
      "AddressLine2 VARCHAR\n",
      "DatePlanned VARCHAR\n"
     ]
    }
   ],
   "source": [
    "# Get a list of column names and types\n",
    "columns = inspector.get_columns('reduced_data')\n",
    "for c in columns:\n",
    "    print(c['name'], c[\"type\"])"
   ]
  },
  {
   "cell_type": "code",
   "execution_count": 6,
   "metadata": {},
   "outputs": [],
   "source": [
    "reduced_data = pd.read_sql(\"SELECT * FROM reduced_data\", conn)"
   ]
  },
  {
   "cell_type": "code",
   "execution_count": 7,
   "metadata": {},
   "outputs": [
    {
     "data": {
      "text/html": [
       "<div>\n",
       "<style scoped>\n",
       "    .dataframe tbody tr th:only-of-type {\n",
       "        vertical-align: middle;\n",
       "    }\n",
       "\n",
       "    .dataframe tbody tr th {\n",
       "        vertical-align: top;\n",
       "    }\n",
       "\n",
       "    .dataframe thead th {\n",
       "        text-align: right;\n",
       "    }\n",
       "</style>\n",
       "<table border=\"1\" class=\"dataframe\">\n",
       "  <thead>\n",
       "    <tr style=\"text-align: right;\">\n",
       "      <th></th>\n",
       "      <th>id</th>\n",
       "      <th>Title</th>\n",
       "      <th>AddressLine1</th>\n",
       "      <th>Town</th>\n",
       "      <th>StateOrProvince</th>\n",
       "      <th>Postcode</th>\n",
       "      <th>Latitude</th>\n",
       "      <th>Longitude</th>\n",
       "      <th>ConnectionTypeIDs</th>\n",
       "      <th>PowerKWs</th>\n",
       "      <th>...</th>\n",
       "      <th>UsageTypeID</th>\n",
       "      <th>UsageCost</th>\n",
       "      <th>NumberOfPoints</th>\n",
       "      <th>StatusTypeID</th>\n",
       "      <th>LUnknownCount</th>\n",
       "      <th>L1Count</th>\n",
       "      <th>L2Count</th>\n",
       "      <th>L3Count</th>\n",
       "      <th>AddressLine2</th>\n",
       "      <th>DatePlanned</th>\n",
       "    </tr>\n",
       "  </thead>\n",
       "  <tbody>\n",
       "    <tr>\n",
       "      <th>0</th>\n",
       "      <td>1</td>\n",
       "      <td>Walker Street</td>\n",
       "      <td>6 Walker Street</td>\n",
       "      <td>Lenox</td>\n",
       "      <td>MA</td>\n",
       "      <td>01242</td>\n",
       "      <td>42.356323</td>\n",
       "      <td>-73.285101</td>\n",
       "      <td>[1, 1]</td>\n",
       "      <td>[6.3, 6.3]</td>\n",
       "      <td>...</td>\n",
       "      <td>1</td>\n",
       "      <td>Free</td>\n",
       "      <td>2</td>\n",
       "      <td>50</td>\n",
       "      <td>0</td>\n",
       "      <td>0</td>\n",
       "      <td>2</td>\n",
       "      <td>0</td>\n",
       "      <td>None</td>\n",
       "      <td>None</td>\n",
       "    </tr>\n",
       "    <tr>\n",
       "      <th>1</th>\n",
       "      <td>2</td>\n",
       "      <td>Range USA</td>\n",
       "      <td>660 James L Hart Parkway</td>\n",
       "      <td>Ypsilanti Charter Township</td>\n",
       "      <td>MI</td>\n",
       "      <td>48197</td>\n",
       "      <td>42.226131</td>\n",
       "      <td>-83.622834</td>\n",
       "      <td>[32, 2]</td>\n",
       "      <td>[50.0, 400.0]</td>\n",
       "      <td>...</td>\n",
       "      <td>1</td>\n",
       "      <td>$2 + $0.35 kWh</td>\n",
       "      <td>2</td>\n",
       "      <td>50</td>\n",
       "      <td>0</td>\n",
       "      <td>0</td>\n",
       "      <td>0</td>\n",
       "      <td>2</td>\n",
       "      <td>None</td>\n",
       "      <td>None</td>\n",
       "    </tr>\n",
       "    <tr>\n",
       "      <th>2</th>\n",
       "      <td>3</td>\n",
       "      <td>Irving Oil / Circle K</td>\n",
       "      <td>206 Center Road</td>\n",
       "      <td>Fairfield</td>\n",
       "      <td>ME</td>\n",
       "      <td>04937</td>\n",
       "      <td>44.594865</td>\n",
       "      <td>-69.617167</td>\n",
       "      <td>[32, 32]</td>\n",
       "      <td>[120.0, 120.0]</td>\n",
       "      <td>...</td>\n",
       "      <td>4</td>\n",
       "      <td>$0.45 per kWH</td>\n",
       "      <td>2</td>\n",
       "      <td>50</td>\n",
       "      <td>0</td>\n",
       "      <td>0</td>\n",
       "      <td>0</td>\n",
       "      <td>2</td>\n",
       "      <td>None</td>\n",
       "      <td>None</td>\n",
       "    </tr>\n",
       "    <tr>\n",
       "      <th>3</th>\n",
       "      <td>4</td>\n",
       "      <td>EVB N Lot</td>\n",
       "      <td>1201 Village Road</td>\n",
       "      <td>Dearborn</td>\n",
       "      <td>MI</td>\n",
       "      <td>48126</td>\n",
       "      <td>42.300885</td>\n",
       "      <td>-83.230529</td>\n",
       "      <td>[1, 1, 1, 1, 1, 1, 1, 1, 1, 1, 1, 1, 1, 1]</td>\n",
       "      <td>[-1.0, -1.0, -1.0, -1.0, -1.0, -1.0, -1.0, -1....</td>\n",
       "      <td>...</td>\n",
       "      <td>6</td>\n",
       "      <td>Free</td>\n",
       "      <td>14</td>\n",
       "      <td>100</td>\n",
       "      <td>14</td>\n",
       "      <td>0</td>\n",
       "      <td>0</td>\n",
       "      <td>0</td>\n",
       "      <td>None</td>\n",
       "      <td>None</td>\n",
       "    </tr>\n",
       "    <tr>\n",
       "      <th>4</th>\n",
       "      <td>5</td>\n",
       "      <td>Carroll Shelby Way East</td>\n",
       "      <td>Carroll Shelby Way East</td>\n",
       "      <td>Dearborn</td>\n",
       "      <td>MI</td>\n",
       "      <td>48124</td>\n",
       "      <td>42.297993</td>\n",
       "      <td>-83.230880</td>\n",
       "      <td>[1, 1, 1, 1, 1, 1, 1, 1, 1, 1, 1, 1, 1, 1, 1, ...</td>\n",
       "      <td>[-1.0, -1.0, -1.0, -1.0, -1.0, -1.0, -1.0, -1....</td>\n",
       "      <td>...</td>\n",
       "      <td>6</td>\n",
       "      <td>Free</td>\n",
       "      <td>20</td>\n",
       "      <td>100</td>\n",
       "      <td>20</td>\n",
       "      <td>0</td>\n",
       "      <td>0</td>\n",
       "      <td>0</td>\n",
       "      <td>None</td>\n",
       "      <td>None</td>\n",
       "    </tr>\n",
       "  </tbody>\n",
       "</table>\n",
       "<p>5 rows × 22 columns</p>\n",
       "</div>"
      ],
      "text/plain": [
       "   id                    Title              AddressLine1  \\\n",
       "0   1            Walker Street           6 Walker Street   \n",
       "1   2                Range USA  660 James L Hart Parkway   \n",
       "2   3    Irving Oil / Circle K           206 Center Road   \n",
       "3   4                EVB N Lot         1201 Village Road   \n",
       "4   5  Carroll Shelby Way East   Carroll Shelby Way East   \n",
       "\n",
       "                         Town StateOrProvince Postcode   Latitude  Longitude  \\\n",
       "0                       Lenox              MA    01242  42.356323 -73.285101   \n",
       "1  Ypsilanti Charter Township              MI    48197  42.226131 -83.622834   \n",
       "2                   Fairfield              ME    04937  44.594865 -69.617167   \n",
       "3                    Dearborn              MI    48126  42.300885 -83.230529   \n",
       "4                    Dearborn              MI    48124  42.297993 -83.230880   \n",
       "\n",
       "                                   ConnectionTypeIDs  \\\n",
       "0                                             [1, 1]   \n",
       "1                                            [32, 2]   \n",
       "2                                           [32, 32]   \n",
       "3         [1, 1, 1, 1, 1, 1, 1, 1, 1, 1, 1, 1, 1, 1]   \n",
       "4  [1, 1, 1, 1, 1, 1, 1, 1, 1, 1, 1, 1, 1, 1, 1, ...   \n",
       "\n",
       "                                            PowerKWs  ... UsageTypeID  \\\n",
       "0                                         [6.3, 6.3]  ...           1   \n",
       "1                                      [50.0, 400.0]  ...           1   \n",
       "2                                     [120.0, 120.0]  ...           4   \n",
       "3  [-1.0, -1.0, -1.0, -1.0, -1.0, -1.0, -1.0, -1....  ...           6   \n",
       "4  [-1.0, -1.0, -1.0, -1.0, -1.0, -1.0, -1.0, -1....  ...           6   \n",
       "\n",
       "        UsageCost  NumberOfPoints StatusTypeID  LUnknownCount  L1Count  \\\n",
       "0            Free               2           50              0        0   \n",
       "1  $2 + $0.35 kWh               2           50              0        0   \n",
       "2   $0.45 per kWH               2           50              0        0   \n",
       "3            Free              14          100             14        0   \n",
       "4            Free              20          100             20        0   \n",
       "\n",
       "   L2Count  L3Count  AddressLine2  DatePlanned  \n",
       "0        2        0          None         None  \n",
       "1        0        2          None         None  \n",
       "2        0        2          None         None  \n",
       "3        0        0          None         None  \n",
       "4        0        0          None         None  \n",
       "\n",
       "[5 rows x 22 columns]"
      ]
     },
     "execution_count": 7,
     "metadata": {},
     "output_type": "execute_result"
    }
   ],
   "source": [
    "reduced_data.head()"
   ]
  },
  {
   "cell_type": "code",
   "execution_count": 8,
   "metadata": {},
   "outputs": [],
   "source": [
    "conn.close()"
   ]
  },
  {
   "cell_type": "code",
   "execution_count": 9,
   "metadata": {},
   "outputs": [],
   "source": [
    "engine.dispose()"
   ]
  }
 ],
 "metadata": {
  "kernelspec": {
   "display_name": "base",
   "language": "python",
   "name": "python3"
  },
  "language_info": {
   "codemirror_mode": {
    "name": "ipython",
    "version": 3
   },
   "file_extension": ".py",
   "mimetype": "text/x-python",
   "name": "python",
   "nbconvert_exporter": "python",
   "pygments_lexer": "ipython3",
   "version": "3.9.13"
  },
  "orig_nbformat": 4
 },
 "nbformat": 4,
 "nbformat_minor": 2
}
